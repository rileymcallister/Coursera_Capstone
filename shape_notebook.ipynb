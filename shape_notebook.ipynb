{
 "cells": [
  {
   "cell_type": "code",
   "execution_count": 1,
   "metadata": {},
   "outputs": [
    {
     "name": "stdout",
     "output_type": "stream",
     "text": [
      "Collecting package metadata (current_repodata.json): ...working... done\n",
      "Solving environment: ...working... done\n",
      "\n",
      "# All requested packages already installed.\n",
      "\n",
      "Collecting package metadata (current_repodata.json): ...working... done\n",
      "Solving environment: ...working... done\n",
      "\n",
      "# All requested packages already installed.\n",
      "\n",
      "Collecting package metadata (current_repodata.json): ...working... done\n",
      "Solving environment: ...working... done\n",
      "\n",
      "# All requested packages already installed.\n",
      "\n",
      "Collecting package metadata (current_repodata.json): ...working... done\n",
      "Solving environment: ...working... done\n",
      "\n",
      "# All requested packages already installed.\n",
      "\n",
      "Done.\n"
     ]
    }
   ],
   "source": [
    "# Install and import appropriate packages and print \"Done.\" when this is complete.\n",
    "\n",
    "!conda install -c conda-forge scikit-learn --yes\n",
    "!conda install -c conda-forge lxml --yes\n",
    "!conda install -c conda-forge geopy --yes\n",
    "!conda install -c conda-forge folium=0.5.0 --yes\n",
    "\n",
    "import numpy as np\n",
    "import pandas as pd\n",
    "import json\n",
    "import lxml\n",
    "\n",
    "from geopy.geocoders import Nominatim\n",
    "\n",
    "import requests\n",
    "from pandas.io.json import json_normalize\n",
    "\n",
    "import matplotlib.cm as cm\n",
    "import matplotlib.colors as colors\n",
    "\n",
    "from sklearn.cluster import KMeans\n",
    "\n",
    "\n",
    "import folium\n",
    "\n",
    "print(\"Done.\")"
   ]
  },
  {
   "cell_type": "code",
   "execution_count": 49,
   "metadata": {},
   "outputs": [
    {
     "data": {
      "text/plain": [
       "(103, 3)"
      ]
     },
     "execution_count": 49,
     "metadata": {},
     "output_type": "execute_result"
    }
   ],
   "source": [
    "# Scrape wikipedia to create a dataframe with rows missing 'Borough' values removed.\n",
    "\n",
    "wiki_dfs = pd.read_html(\"https://en.wikipedia.org/wiki/List_of_postal_codes_of_Canada:_M\")\n",
    "#filtered_columns = [\"PostalCode\",\"Borough\",\"Neighborhood\"]\n",
    "#wiki_df = wiki_df.loc[:, filtered_columns]\n",
    "wiki_df = pd.concat(wiki_dfs)\n",
    "wiki_df = wiki_df[[\"Postal Code\",\"Borough\",\"Neighbourhood\"]]\n",
    "wiki_df.replace(to_replace=\"Not assigned\", value=np.NaN, inplace=True)\n",
    "wiki_df.dropna(axis=0, subset=[\"Borough\"], inplace=True)\n",
    "wiki_df.reset_index(drop=True)\n",
    "\n",
    "# Set 'Neighborhood' values to equal 'Borough' values when missing.\n",
    "wiki_df['Neighbourhood'].fillna(wiki_df['Borough'])\n",
    "\n",
    "# Shape of dataframe\n",
    "\n",
    "wiki_df.shape"
   ]
  }
 ],
 "metadata": {
  "kernelspec": {
   "display_name": "Python 3",
   "language": "python",
   "name": "python3"
  },
  "language_info": {
   "codemirror_mode": {
    "name": "ipython",
    "version": 3
   },
   "file_extension": ".py",
   "mimetype": "text/x-python",
   "name": "python",
   "nbconvert_exporter": "python",
   "pygments_lexer": "ipython3",
   "version": "3.8.3"
  }
 },
 "nbformat": 4,
 "nbformat_minor": 4
}
